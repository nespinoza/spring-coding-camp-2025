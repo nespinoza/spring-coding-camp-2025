{
 "cells": [
  {
   "cell_type": "markdown",
   "metadata": {},
   "source": [
    "## April 22\n",
    "# READING AND WRITING FILES \n",
    " ------------------------"
   ]
  },
  {
   "cell_type": "markdown",
   "metadata": {},
   "source": [
    "## Part 1"
   ]
  },
  {
   "cell_type": "code",
   "execution_count": 1,
   "metadata": {},
   "outputs": [],
   "source": [
    "myfile = open('ex1.txt','r')"
   ]
  },
  {
   "cell_type": "code",
   "execution_count": 2,
   "metadata": {},
   "outputs": [],
   "source": [
    "output = []\n",
    "\n",
    "# way number 1\n",
    "\"\"\"\n",
    "line = -1\n",
    "while line != '':\n",
    "    line = myfile.readline()\n",
    "    if line == '':\n",
    "        break\n",
    "    output.append(line)\n",
    "\"\"\"\n",
    "\n",
    "\n",
    "# way number 2\n",
    "\"\"\"\n",
    "while True:\n",
    "    line = myfile.readline()\n",
    "    if line == '':\n",
    "        break\n",
    "    output.append(line)\n",
    "\"\"\"\n",
    "\n",
    "# way number 3\n",
    "line = myfile.readline()\n",
    "while line != '':\n",
    "    output.append(line)\n",
    "    line = myfile.readline()"
   ]
  },
  {
   "cell_type": "code",
   "execution_count": 3,
   "metadata": {},
   "outputs": [],
   "source": [
    "output"
   ]
  },
  {
   "cell_type": "code",
   "execution_count": 4,
   "metadata": {},
   "outputs": [],
   "source": [
    "myfile.close()"
   ]
  },
  {
   "cell_type": "markdown",
   "metadata": {},
   "source": [
    "## Part 2"
   ]
  },
  {
   "cell_type": "code",
   "execution_count": 5,
   "metadata": {},
   "outputs": [],
   "source": [
    "output[0]"
   ]
  },
  {
   "cell_type": "code",
   "execution_count": 6,
   "metadata": {},
   "outputs": [],
   "source": [
    "# Remove the newline character\n",
    "rl= output[0].strip()\n",
    "\n",
    "# Split into parts using \";\"\n",
    "part =output[0].split(';')"
   ]
  },
  {
   "cell_type": "code",
   "execution_count": null,
   "metadata": {},
   "outputs": [],
   "source": []
  },
  {
   "cell_type": "code",
   "execution_count": 7,
   "metadata": {},
   "outputs": [],
   "source": [
    "name = [part[0]]\n",
    "name"
   ]
  },
  {
   "cell_type": "code",
   "execution_count": 8,
   "metadata": {},
   "outputs": [],
   "source": [
    "score = [int(part[1])]"
   ]
  },
  {
   "cell_type": "code",
   "execution_count": 9,
   "metadata": {},
   "outputs": [],
   "source": [
    "score"
   ]
  },
  {
   "cell_type": "code",
   "execution_count": 10,
   "metadata": {},
   "outputs": [],
   "source": [
    "names= []\n",
    "scores = []\n",
    "\n",
    "for line in output:\n",
    "    parts = line.strip().split(\";\")  # ['rene', '9']\n",
    "    \n",
    "    name = parts[0] # get the name\n",
    "    score = int(parts[1]) # get the score\n",
    "    \n",
    "    names.append(name)\n",
    "    scores.append(score)      \n"
   ]
  },
  {
   "cell_type": "code",
   "execution_count": 11,
   "metadata": {},
   "outputs": [],
   "source": [
    "names\n"
   ]
  },
  {
   "cell_type": "code",
   "execution_count": 12,
   "metadata": {},
   "outputs": [],
   "source": [
    "scores"
   ]
  },
  {
   "cell_type": "markdown",
   "metadata": {},
   "source": [
    "## Part 3: writing a file with outputs"
   ]
  },
  {
   "cell_type": "code",
   "execution_count": 13,
   "metadata": {},
   "outputs": [],
   "source": [
    "# Open a new file called \"myfile.txt\" in write (w) mode\n",
    "yourfile= open('myfile.txt', 'w')"
   ]
  },
  {
   "cell_type": "code",
   "execution_count": 14,
   "metadata": {},
   "outputs": [],
   "source": [
    "# Add lines to myfile\n",
    "yourfile.write('this is the first line! \\n')\n",
    "yourfile.write('this is the second \\n')\n",
    "yourfile.write('=)')\n",
    "yourfile.close()"
   ]
  },
  {
   "cell_type": "code",
   "execution_count": 15,
   "metadata": {},
   "outputs": [
    {
     "name": "stdout",
     "output_type": "stream",
     "text": [
      "this is the first line! \n",
      "this is the second \n",
      "=)\n"
     ]
    }
   ],
   "source": [
    "\n",
    "# Open the file in read mode\n",
    "mf = open(\"myfile.txt\", \"r\")\n",
    "\n",
    "# Read the content of the file\n",
    "content = mf.read()\n",
    "\n",
    "print(content)"
   ]
  },
  {
   "cell_type": "code",
   "execution_count": 16,
   "metadata": {},
   "outputs": [],
   "source": [
    "# Open a new file called \"ex2.txt\" \n",
    "file= open('ex2.txt', 'w')"
   ]
  },
  {
   "cell_type": "code",
   "execution_count": 17,
   "metadata": {},
   "outputs": [],
   "source": [
    "# Create the list results that stores the values 'pass' or 'fail' based on the corresponding scores.\n",
    "\n",
    "results = []\n",
    "\n",
    "for score in scores:\n",
    "    if score < 3:\n",
    "        r= \"Fail\"\n",
    "    else: \n",
    "        r= \"Pass\"\n",
    "    \n",
    "    results.append(r)"
   ]
  },
  {
   "cell_type": "code",
   "execution_count": 18,
   "metadata": {},
   "outputs": [
    {
     "name": "stdout",
     "output_type": "stream",
     "text": [
      "['Pass', 'Pass', 'Fail', 'Fail', 'Pass']\n"
     ]
    }
   ],
   "source": [
    "print(results)"
   ]
  },
  {
   "cell_type": "code",
   "execution_count": 19,
   "metadata": {},
   "outputs": [],
   "source": [
    "# first Line of the output file ex2\n",
    "\n",
    "#file.write(names[0]+ \";\" + str(scores[0]) + \";\"+ result[0] + \"/n\")"
   ]
  },
  {
   "cell_type": "code",
   "execution_count": 20,
   "metadata": {},
   "outputs": [],
   "source": [
    "\n",
    "for i in range(len(names)):\n",
    "    file.write(names[i] + \";\" + str(scores[i]) + \";\" + results[i] + \"\\n\")\n"
   ]
  },
  {
   "cell_type": "code",
   "execution_count": 21,
   "metadata": {},
   "outputs": [],
   "source": [
    "file.close()"
   ]
  },
  {
   "cell_type": "code",
   "execution_count": 22,
   "metadata": {},
   "outputs": [
    {
     "name": "stdout",
     "output_type": "stream",
     "text": [
      "carlos;6;Pass\n",
      "rene;9;Pass\n",
      "juan;1;Fail\n",
      "diego;2;Fail\n",
      "romina;5;Pass\n",
      "\n"
     ]
    }
   ],
   "source": [
    "# Open the file in read mode\n",
    "file = open(\"ex2.txt\", \"r\")\n",
    "\n",
    "conten= file.read()\n",
    "\n",
    "print(conten)"
   ]
  },
  {
   "cell_type": "markdown",
   "metadata": {},
   "source": [
    "## Part 4: writing a callable script\n"
   ]
  },
  {
   "cell_type": "code",
   "execution_count": 23,
   "metadata": {},
   "outputs": [],
   "source": [
    "def txt_file(input_fname, output_fname):\n",
    "    \n",
    "    file1 = open(input_fname,'r')\n",
    "    file3 = open(output_fname, 'w')    \n",
    "    \n",
    "    \n",
    "    output = []\n",
    "\n",
    "    line = file1.readline()\n",
    "    \n",
    "    while line != '':\n",
    "        output.append(line)\n",
    "        line = file1.readline()\n",
    "        \n",
    "    \n",
    "    names= []\n",
    "    scores = []\n",
    "    \n",
    "    for line in output:\n",
    "        parts = line.strip().split(\";\")  # ['rene', '9']\n",
    "        \n",
    "        name = parts[0] # get the name\n",
    "        score = int(parts[1]) # get the score\n",
    "    \n",
    "        names.append(name)\n",
    "        scores.append(score)\n",
    "        \n",
    "    results = []\n",
    "    \n",
    "    for score in scores:\n",
    "        if score < 3:\n",
    "            r= \"Fail\"\n",
    "        else: \n",
    "            r= \"Pass\"\n",
    "            \n",
    "        results.append(r)\n",
    "        \n",
    "    \n",
    "    for i in range(len(names)):\n",
    "        file3.write(names[i] + \";\" + str(scores[i]) + \";\" + results[i] + \"\\n\")\n",
    "        \n",
    "    file3.close()\n",
    "    file1.close()"
   ]
  },
  {
   "cell_type": "code",
   "execution_count": 24,
   "metadata": {},
   "outputs": [],
   "source": [
    "txt_file('ex1.txt', 'ex3.txt')"
   ]
  },
  {
   "cell_type": "code",
   "execution_count": 25,
   "metadata": {},
   "outputs": [
    {
     "name": "stdout",
     "output_type": "stream",
     "text": [
      "carlos;6;Pass\r\n",
      "rene;9;Pass\r\n",
      "juan;1;Fail\r\n",
      "diego;2;Fail\r\n",
      "romina;5;Pass\r\n"
     ]
    }
   ],
   "source": [
    "cat ex2.txt"
   ]
  },
  {
   "cell_type": "code",
   "execution_count": 26,
   "metadata": {},
   "outputs": [
    {
     "name": "stdout",
     "output_type": "stream",
     "text": [
      "carlos;6;Pass\r\n",
      "rene;9;Pass\r\n",
      "juan;1;Fail\r\n",
      "diego;2;Fail\r\n",
      "romina;5;Pass\r\n"
     ]
    }
   ],
   "source": [
    "cat ex3.txt"
   ]
  },
  {
   "cell_type": "markdown",
   "metadata": {},
   "source": [
    "## Part 5: Import"
   ]
  },
  {
   "cell_type": "code",
   "execution_count": 27,
   "metadata": {},
   "outputs": [],
   "source": [
    "import utils"
   ]
  },
  {
   "cell_type": "code",
   "execution_count": 28,
   "metadata": {},
   "outputs": [
    {
     "name": "stdout",
     "output_type": "stream",
     "text": [
      "<_io.TextIOWrapper name='ex1.txt' mode='r' encoding='UTF-8'>\n"
     ]
    }
   ],
   "source": [
    "utils.txt_file('ex1.txt', 'ex4.txt')"
   ]
  },
  {
   "cell_type": "code",
   "execution_count": 29,
   "metadata": {},
   "outputs": [
    {
     "name": "stdout",
     "output_type": "stream",
     "text": [
      "carlos;6;Pass\r\n",
      "rene;9;Pass\r\n",
      "juan;1;Fail\r\n",
      "diego;2;Fail\r\n",
      "romina;5;Pass\r\n"
     ]
    }
   ],
   "source": [
    "cat ex4.txt"
   ]
  },
  {
   "cell_type": "code",
   "execution_count": 31,
   "metadata": {},
   "outputs": [
    {
     "name": "stdout",
     "output_type": "stream",
     "text": [
      "hola\n"
     ]
    }
   ],
   "source": [
    "utils.saludos()"
   ]
  }
 ],
 "metadata": {
  "kernelspec": {
   "display_name": "Python 3",
   "language": "python",
   "name": "python3"
  },
  "language_info": {
   "codemirror_mode": {
    "name": "ipython",
    "version": 3
   },
   "file_extension": ".py",
   "mimetype": "text/x-python",
   "name": "python",
   "nbconvert_exporter": "python",
   "pygments_lexer": "ipython3",
   "version": "3.8.5"
  }
 },
 "nbformat": 4,
 "nbformat_minor": 4
}
